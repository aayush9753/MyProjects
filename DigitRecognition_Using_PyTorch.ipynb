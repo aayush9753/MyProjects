{
  "nbformat": 4,
  "nbformat_minor": 0,
  "metadata": {
    "colab": {
      "name": "DigitRecognition_Using_PyTorch.ipynb",
      "provenance": [],
      "collapsed_sections": [],
      "authorship_tag": "ABX9TyOsPW5ksWfJtrRyK1kyUPwe",
      "include_colab_link": true
    },
    "kernelspec": {
      "name": "python3",
      "display_name": "Python 3"
    },
    "accelerator": "GPU"
  },
  "cells": [
    {
      "cell_type": "markdown",
      "metadata": {
        "id": "view-in-github",
        "colab_type": "text"
      },
      "source": [
        "<a href=\"https://colab.research.google.com/github/aayush9753/MyProjects/blob/main/DigitRecognition_Using_PyTorch.ipynb\" target=\"_parent\"><img src=\"https://colab.research.google.com/assets/colab-badge.svg\" alt=\"Open In Colab\"/></a>"
      ]
    },
    {
      "cell_type": "markdown",
      "metadata": {
        "id": "4erbgMBYHjzO"
      },
      "source": [
        "Mounting the drive to get the Dataset"
      ]
    },
    {
      "cell_type": "code",
      "metadata": {
        "id": "_VhNpZWcWGVo",
        "outputId": "864c8009-a153-4168-c591-3bf7d3bbbdf8",
        "colab": {
          "base_uri": "https://localhost:8080/",
          "height": 34
        }
      },
      "source": [
        "from google.colab import drive\n",
        "drive.mount('/content/drive')"
      ],
      "execution_count": 1,
      "outputs": [
        {
          "output_type": "stream",
          "text": [
            "Mounted at /content/drive\n"
          ],
          "name": "stdout"
        }
      ]
    },
    {
      "cell_type": "markdown",
      "metadata": {
        "id": "3fF_htJKHo7X"
      },
      "source": [
        "#Imprting the libraries"
      ]
    },
    {
      "cell_type": "code",
      "metadata": {
        "id": "UnOYG2O4V3-8"
      },
      "source": [
        "import numpy as np\n",
        "import pandas as pd\n",
        "from matplotlib import pyplot as plt\n",
        "\n",
        "import random\n",
        "import math\n",
        "from sklearn.model_selection import train_test_split\n",
        "\n",
        "import torch\n",
        "import torchvision\n",
        "from torchvision import datasets, models, transforms\n",
        "\n",
        "import torch.nn as nn\n",
        "from torch.nn import Linear, ReLU, CrossEntropyLoss, Sequential, Conv2d, MaxPool2d, Module, Softmax, BatchNorm2d, Dropout\n",
        "\n",
        "from torch.utils.data import Dataset, DataLoader\n",
        "\n",
        "import torch.optim as optim\n",
        "from torch.optim import lr_scheduler, Adam, SGD\n",
        "\n",
        "import torch.nn.functional as F\n",
        "from torch.autograd import Variable\n",
        "\n",
        "# for evaluating the model\n",
        "from sklearn.metrics import accuracy_score\n",
        "from tqdm import tqdm\n",
        "import time\n",
        "import os\n",
        "import copy"
      ],
      "execution_count": 22,
      "outputs": []
    },
    {
      "cell_type": "markdown",
      "metadata": {
        "id": "kIzKfvsdHwou"
      },
      "source": [
        "# Importing the Data"
      ]
    },
    {
      "cell_type": "code",
      "metadata": {
        "id": "ACwRmQtuXx0g"
      },
      "source": [
        "train=pd.read_csv('/content/drive/My Drive/Data/Digit_Recognition/train.csv')\n",
        "test=pd.read_csv('/content/drive/My Drive/Data/Digit_Recognition/test.csv')"
      ],
      "execution_count": 3,
      "outputs": []
    },
    {
      "cell_type": "code",
      "metadata": {
        "id": "3NZU4alXYZ-U",
        "outputId": "0047c5d9-c85f-4293-e4ae-92d55a8b255e",
        "colab": {
          "base_uri": "https://localhost:8080/",
          "height": 244
        }
      },
      "source": [
        "train.head()"
      ],
      "execution_count": 4,
      "outputs": [
        {
          "output_type": "execute_result",
          "data": {
            "text/html": [
              "<div>\n",
              "<style scoped>\n",
              "    .dataframe tbody tr th:only-of-type {\n",
              "        vertical-align: middle;\n",
              "    }\n",
              "\n",
              "    .dataframe tbody tr th {\n",
              "        vertical-align: top;\n",
              "    }\n",
              "\n",
              "    .dataframe thead th {\n",
              "        text-align: right;\n",
              "    }\n",
              "</style>\n",
              "<table border=\"1\" class=\"dataframe\">\n",
              "  <thead>\n",
              "    <tr style=\"text-align: right;\">\n",
              "      <th></th>\n",
              "      <th>label</th>\n",
              "      <th>pixel0</th>\n",
              "      <th>pixel1</th>\n",
              "      <th>pixel2</th>\n",
              "      <th>pixel3</th>\n",
              "      <th>pixel4</th>\n",
              "      <th>pixel5</th>\n",
              "      <th>pixel6</th>\n",
              "      <th>pixel7</th>\n",
              "      <th>pixel8</th>\n",
              "      <th>pixel9</th>\n",
              "      <th>pixel10</th>\n",
              "      <th>pixel11</th>\n",
              "      <th>pixel12</th>\n",
              "      <th>pixel13</th>\n",
              "      <th>pixel14</th>\n",
              "      <th>pixel15</th>\n",
              "      <th>pixel16</th>\n",
              "      <th>pixel17</th>\n",
              "      <th>pixel18</th>\n",
              "      <th>pixel19</th>\n",
              "      <th>pixel20</th>\n",
              "      <th>pixel21</th>\n",
              "      <th>pixel22</th>\n",
              "      <th>pixel23</th>\n",
              "      <th>pixel24</th>\n",
              "      <th>pixel25</th>\n",
              "      <th>pixel26</th>\n",
              "      <th>pixel27</th>\n",
              "      <th>pixel28</th>\n",
              "      <th>pixel29</th>\n",
              "      <th>pixel30</th>\n",
              "      <th>pixel31</th>\n",
              "      <th>pixel32</th>\n",
              "      <th>pixel33</th>\n",
              "      <th>pixel34</th>\n",
              "      <th>pixel35</th>\n",
              "      <th>pixel36</th>\n",
              "      <th>pixel37</th>\n",
              "      <th>pixel38</th>\n",
              "      <th>...</th>\n",
              "      <th>pixel744</th>\n",
              "      <th>pixel745</th>\n",
              "      <th>pixel746</th>\n",
              "      <th>pixel747</th>\n",
              "      <th>pixel748</th>\n",
              "      <th>pixel749</th>\n",
              "      <th>pixel750</th>\n",
              "      <th>pixel751</th>\n",
              "      <th>pixel752</th>\n",
              "      <th>pixel753</th>\n",
              "      <th>pixel754</th>\n",
              "      <th>pixel755</th>\n",
              "      <th>pixel756</th>\n",
              "      <th>pixel757</th>\n",
              "      <th>pixel758</th>\n",
              "      <th>pixel759</th>\n",
              "      <th>pixel760</th>\n",
              "      <th>pixel761</th>\n",
              "      <th>pixel762</th>\n",
              "      <th>pixel763</th>\n",
              "      <th>pixel764</th>\n",
              "      <th>pixel765</th>\n",
              "      <th>pixel766</th>\n",
              "      <th>pixel767</th>\n",
              "      <th>pixel768</th>\n",
              "      <th>pixel769</th>\n",
              "      <th>pixel770</th>\n",
              "      <th>pixel771</th>\n",
              "      <th>pixel772</th>\n",
              "      <th>pixel773</th>\n",
              "      <th>pixel774</th>\n",
              "      <th>pixel775</th>\n",
              "      <th>pixel776</th>\n",
              "      <th>pixel777</th>\n",
              "      <th>pixel778</th>\n",
              "      <th>pixel779</th>\n",
              "      <th>pixel780</th>\n",
              "      <th>pixel781</th>\n",
              "      <th>pixel782</th>\n",
              "      <th>pixel783</th>\n",
              "    </tr>\n",
              "  </thead>\n",
              "  <tbody>\n",
              "    <tr>\n",
              "      <th>0</th>\n",
              "      <td>1</td>\n",
              "      <td>0</td>\n",
              "      <td>0</td>\n",
              "      <td>0</td>\n",
              "      <td>0</td>\n",
              "      <td>0</td>\n",
              "      <td>0</td>\n",
              "      <td>0</td>\n",
              "      <td>0</td>\n",
              "      <td>0</td>\n",
              "      <td>0</td>\n",
              "      <td>0</td>\n",
              "      <td>0</td>\n",
              "      <td>0</td>\n",
              "      <td>0</td>\n",
              "      <td>0</td>\n",
              "      <td>0</td>\n",
              "      <td>0</td>\n",
              "      <td>0</td>\n",
              "      <td>0</td>\n",
              "      <td>0</td>\n",
              "      <td>0</td>\n",
              "      <td>0</td>\n",
              "      <td>0</td>\n",
              "      <td>0</td>\n",
              "      <td>0</td>\n",
              "      <td>0</td>\n",
              "      <td>0</td>\n",
              "      <td>0</td>\n",
              "      <td>0</td>\n",
              "      <td>0</td>\n",
              "      <td>0</td>\n",
              "      <td>0</td>\n",
              "      <td>0</td>\n",
              "      <td>0</td>\n",
              "      <td>0</td>\n",
              "      <td>0</td>\n",
              "      <td>0</td>\n",
              "      <td>0</td>\n",
              "      <td>0</td>\n",
              "      <td>...</td>\n",
              "      <td>0</td>\n",
              "      <td>0</td>\n",
              "      <td>0</td>\n",
              "      <td>0</td>\n",
              "      <td>0</td>\n",
              "      <td>0</td>\n",
              "      <td>0</td>\n",
              "      <td>0</td>\n",
              "      <td>0</td>\n",
              "      <td>0</td>\n",
              "      <td>0</td>\n",
              "      <td>0</td>\n",
              "      <td>0</td>\n",
              "      <td>0</td>\n",
              "      <td>0</td>\n",
              "      <td>0</td>\n",
              "      <td>0</td>\n",
              "      <td>0</td>\n",
              "      <td>0</td>\n",
              "      <td>0</td>\n",
              "      <td>0</td>\n",
              "      <td>0</td>\n",
              "      <td>0</td>\n",
              "      <td>0</td>\n",
              "      <td>0</td>\n",
              "      <td>0</td>\n",
              "      <td>0</td>\n",
              "      <td>0</td>\n",
              "      <td>0</td>\n",
              "      <td>0</td>\n",
              "      <td>0</td>\n",
              "      <td>0</td>\n",
              "      <td>0</td>\n",
              "      <td>0</td>\n",
              "      <td>0</td>\n",
              "      <td>0</td>\n",
              "      <td>0</td>\n",
              "      <td>0</td>\n",
              "      <td>0</td>\n",
              "      <td>0</td>\n",
              "    </tr>\n",
              "    <tr>\n",
              "      <th>1</th>\n",
              "      <td>0</td>\n",
              "      <td>0</td>\n",
              "      <td>0</td>\n",
              "      <td>0</td>\n",
              "      <td>0</td>\n",
              "      <td>0</td>\n",
              "      <td>0</td>\n",
              "      <td>0</td>\n",
              "      <td>0</td>\n",
              "      <td>0</td>\n",
              "      <td>0</td>\n",
              "      <td>0</td>\n",
              "      <td>0</td>\n",
              "      <td>0</td>\n",
              "      <td>0</td>\n",
              "      <td>0</td>\n",
              "      <td>0</td>\n",
              "      <td>0</td>\n",
              "      <td>0</td>\n",
              "      <td>0</td>\n",
              "      <td>0</td>\n",
              "      <td>0</td>\n",
              "      <td>0</td>\n",
              "      <td>0</td>\n",
              "      <td>0</td>\n",
              "      <td>0</td>\n",
              "      <td>0</td>\n",
              "      <td>0</td>\n",
              "      <td>0</td>\n",
              "      <td>0</td>\n",
              "      <td>0</td>\n",
              "      <td>0</td>\n",
              "      <td>0</td>\n",
              "      <td>0</td>\n",
              "      <td>0</td>\n",
              "      <td>0</td>\n",
              "      <td>0</td>\n",
              "      <td>0</td>\n",
              "      <td>0</td>\n",
              "      <td>0</td>\n",
              "      <td>...</td>\n",
              "      <td>0</td>\n",
              "      <td>0</td>\n",
              "      <td>0</td>\n",
              "      <td>0</td>\n",
              "      <td>0</td>\n",
              "      <td>0</td>\n",
              "      <td>0</td>\n",
              "      <td>0</td>\n",
              "      <td>0</td>\n",
              "      <td>0</td>\n",
              "      <td>0</td>\n",
              "      <td>0</td>\n",
              "      <td>0</td>\n",
              "      <td>0</td>\n",
              "      <td>0</td>\n",
              "      <td>0</td>\n",
              "      <td>0</td>\n",
              "      <td>0</td>\n",
              "      <td>0</td>\n",
              "      <td>0</td>\n",
              "      <td>0</td>\n",
              "      <td>0</td>\n",
              "      <td>0</td>\n",
              "      <td>0</td>\n",
              "      <td>0</td>\n",
              "      <td>0</td>\n",
              "      <td>0</td>\n",
              "      <td>0</td>\n",
              "      <td>0</td>\n",
              "      <td>0</td>\n",
              "      <td>0</td>\n",
              "      <td>0</td>\n",
              "      <td>0</td>\n",
              "      <td>0</td>\n",
              "      <td>0</td>\n",
              "      <td>0</td>\n",
              "      <td>0</td>\n",
              "      <td>0</td>\n",
              "      <td>0</td>\n",
              "      <td>0</td>\n",
              "    </tr>\n",
              "    <tr>\n",
              "      <th>2</th>\n",
              "      <td>1</td>\n",
              "      <td>0</td>\n",
              "      <td>0</td>\n",
              "      <td>0</td>\n",
              "      <td>0</td>\n",
              "      <td>0</td>\n",
              "      <td>0</td>\n",
              "      <td>0</td>\n",
              "      <td>0</td>\n",
              "      <td>0</td>\n",
              "      <td>0</td>\n",
              "      <td>0</td>\n",
              "      <td>0</td>\n",
              "      <td>0</td>\n",
              "      <td>0</td>\n",
              "      <td>0</td>\n",
              "      <td>0</td>\n",
              "      <td>0</td>\n",
              "      <td>0</td>\n",
              "      <td>0</td>\n",
              "      <td>0</td>\n",
              "      <td>0</td>\n",
              "      <td>0</td>\n",
              "      <td>0</td>\n",
              "      <td>0</td>\n",
              "      <td>0</td>\n",
              "      <td>0</td>\n",
              "      <td>0</td>\n",
              "      <td>0</td>\n",
              "      <td>0</td>\n",
              "      <td>0</td>\n",
              "      <td>0</td>\n",
              "      <td>0</td>\n",
              "      <td>0</td>\n",
              "      <td>0</td>\n",
              "      <td>0</td>\n",
              "      <td>0</td>\n",
              "      <td>0</td>\n",
              "      <td>0</td>\n",
              "      <td>0</td>\n",
              "      <td>...</td>\n",
              "      <td>0</td>\n",
              "      <td>0</td>\n",
              "      <td>0</td>\n",
              "      <td>0</td>\n",
              "      <td>0</td>\n",
              "      <td>0</td>\n",
              "      <td>0</td>\n",
              "      <td>0</td>\n",
              "      <td>0</td>\n",
              "      <td>0</td>\n",
              "      <td>0</td>\n",
              "      <td>0</td>\n",
              "      <td>0</td>\n",
              "      <td>0</td>\n",
              "      <td>0</td>\n",
              "      <td>0</td>\n",
              "      <td>0</td>\n",
              "      <td>0</td>\n",
              "      <td>0</td>\n",
              "      <td>0</td>\n",
              "      <td>0</td>\n",
              "      <td>0</td>\n",
              "      <td>0</td>\n",
              "      <td>0</td>\n",
              "      <td>0</td>\n",
              "      <td>0</td>\n",
              "      <td>0</td>\n",
              "      <td>0</td>\n",
              "      <td>0</td>\n",
              "      <td>0</td>\n",
              "      <td>0</td>\n",
              "      <td>0</td>\n",
              "      <td>0</td>\n",
              "      <td>0</td>\n",
              "      <td>0</td>\n",
              "      <td>0</td>\n",
              "      <td>0</td>\n",
              "      <td>0</td>\n",
              "      <td>0</td>\n",
              "      <td>0</td>\n",
              "    </tr>\n",
              "    <tr>\n",
              "      <th>3</th>\n",
              "      <td>4</td>\n",
              "      <td>0</td>\n",
              "      <td>0</td>\n",
              "      <td>0</td>\n",
              "      <td>0</td>\n",
              "      <td>0</td>\n",
              "      <td>0</td>\n",
              "      <td>0</td>\n",
              "      <td>0</td>\n",
              "      <td>0</td>\n",
              "      <td>0</td>\n",
              "      <td>0</td>\n",
              "      <td>0</td>\n",
              "      <td>0</td>\n",
              "      <td>0</td>\n",
              "      <td>0</td>\n",
              "      <td>0</td>\n",
              "      <td>0</td>\n",
              "      <td>0</td>\n",
              "      <td>0</td>\n",
              "      <td>0</td>\n",
              "      <td>0</td>\n",
              "      <td>0</td>\n",
              "      <td>0</td>\n",
              "      <td>0</td>\n",
              "      <td>0</td>\n",
              "      <td>0</td>\n",
              "      <td>0</td>\n",
              "      <td>0</td>\n",
              "      <td>0</td>\n",
              "      <td>0</td>\n",
              "      <td>0</td>\n",
              "      <td>0</td>\n",
              "      <td>0</td>\n",
              "      <td>0</td>\n",
              "      <td>0</td>\n",
              "      <td>0</td>\n",
              "      <td>0</td>\n",
              "      <td>0</td>\n",
              "      <td>0</td>\n",
              "      <td>...</td>\n",
              "      <td>0</td>\n",
              "      <td>0</td>\n",
              "      <td>0</td>\n",
              "      <td>0</td>\n",
              "      <td>0</td>\n",
              "      <td>0</td>\n",
              "      <td>0</td>\n",
              "      <td>0</td>\n",
              "      <td>0</td>\n",
              "      <td>0</td>\n",
              "      <td>0</td>\n",
              "      <td>0</td>\n",
              "      <td>0</td>\n",
              "      <td>0</td>\n",
              "      <td>0</td>\n",
              "      <td>0</td>\n",
              "      <td>0</td>\n",
              "      <td>0</td>\n",
              "      <td>0</td>\n",
              "      <td>0</td>\n",
              "      <td>0</td>\n",
              "      <td>0</td>\n",
              "      <td>0</td>\n",
              "      <td>0</td>\n",
              "      <td>0</td>\n",
              "      <td>0</td>\n",
              "      <td>0</td>\n",
              "      <td>0</td>\n",
              "      <td>0</td>\n",
              "      <td>0</td>\n",
              "      <td>0</td>\n",
              "      <td>0</td>\n",
              "      <td>0</td>\n",
              "      <td>0</td>\n",
              "      <td>0</td>\n",
              "      <td>0</td>\n",
              "      <td>0</td>\n",
              "      <td>0</td>\n",
              "      <td>0</td>\n",
              "      <td>0</td>\n",
              "    </tr>\n",
              "    <tr>\n",
              "      <th>4</th>\n",
              "      <td>0</td>\n",
              "      <td>0</td>\n",
              "      <td>0</td>\n",
              "      <td>0</td>\n",
              "      <td>0</td>\n",
              "      <td>0</td>\n",
              "      <td>0</td>\n",
              "      <td>0</td>\n",
              "      <td>0</td>\n",
              "      <td>0</td>\n",
              "      <td>0</td>\n",
              "      <td>0</td>\n",
              "      <td>0</td>\n",
              "      <td>0</td>\n",
              "      <td>0</td>\n",
              "      <td>0</td>\n",
              "      <td>0</td>\n",
              "      <td>0</td>\n",
              "      <td>0</td>\n",
              "      <td>0</td>\n",
              "      <td>0</td>\n",
              "      <td>0</td>\n",
              "      <td>0</td>\n",
              "      <td>0</td>\n",
              "      <td>0</td>\n",
              "      <td>0</td>\n",
              "      <td>0</td>\n",
              "      <td>0</td>\n",
              "      <td>0</td>\n",
              "      <td>0</td>\n",
              "      <td>0</td>\n",
              "      <td>0</td>\n",
              "      <td>0</td>\n",
              "      <td>0</td>\n",
              "      <td>0</td>\n",
              "      <td>0</td>\n",
              "      <td>0</td>\n",
              "      <td>0</td>\n",
              "      <td>0</td>\n",
              "      <td>0</td>\n",
              "      <td>...</td>\n",
              "      <td>0</td>\n",
              "      <td>0</td>\n",
              "      <td>0</td>\n",
              "      <td>0</td>\n",
              "      <td>0</td>\n",
              "      <td>0</td>\n",
              "      <td>0</td>\n",
              "      <td>0</td>\n",
              "      <td>0</td>\n",
              "      <td>0</td>\n",
              "      <td>0</td>\n",
              "      <td>0</td>\n",
              "      <td>0</td>\n",
              "      <td>0</td>\n",
              "      <td>0</td>\n",
              "      <td>0</td>\n",
              "      <td>0</td>\n",
              "      <td>0</td>\n",
              "      <td>0</td>\n",
              "      <td>0</td>\n",
              "      <td>0</td>\n",
              "      <td>0</td>\n",
              "      <td>0</td>\n",
              "      <td>0</td>\n",
              "      <td>0</td>\n",
              "      <td>0</td>\n",
              "      <td>0</td>\n",
              "      <td>0</td>\n",
              "      <td>0</td>\n",
              "      <td>0</td>\n",
              "      <td>0</td>\n",
              "      <td>0</td>\n",
              "      <td>0</td>\n",
              "      <td>0</td>\n",
              "      <td>0</td>\n",
              "      <td>0</td>\n",
              "      <td>0</td>\n",
              "      <td>0</td>\n",
              "      <td>0</td>\n",
              "      <td>0</td>\n",
              "    </tr>\n",
              "  </tbody>\n",
              "</table>\n",
              "<p>5 rows × 785 columns</p>\n",
              "</div>"
            ],
            "text/plain": [
              "   label  pixel0  pixel1  pixel2  ...  pixel780  pixel781  pixel782  pixel783\n",
              "0      1       0       0       0  ...         0         0         0         0\n",
              "1      0       0       0       0  ...         0         0         0         0\n",
              "2      1       0       0       0  ...         0         0         0         0\n",
              "3      4       0       0       0  ...         0         0         0         0\n",
              "4      0       0       0       0  ...         0         0         0         0\n",
              "\n",
              "[5 rows x 785 columns]"
            ]
          },
          "metadata": {
            "tags": []
          },
          "execution_count": 4
        }
      ]
    },
    {
      "cell_type": "markdown",
      "metadata": {
        "id": "-yh2ElkdH2JR"
      },
      "source": [
        "# Preprocessing the Raw Data\n",
        "As the Data is having 785 columns which have m 28*28*1 images and their labels.\n",
        "We are converting the data in aproper format to feed them in the model.\n"
      ]
    },
    {
      "cell_type": "code",
      "metadata": {
        "id": "tNEJ71QMYdjJ"
      },
      "source": [
        "#Getting the label column\n",
        "train_labels = np.array(train['label'])\n",
        "# m = No of Exaples\n",
        "m_train = train.shape[0] #m in training data\n",
        "m_test = test.shape[0]  #m in testing data\n",
        "#reshaping the long 1D vector of shape 1*784 into a 3D vector of shape 1*28*28 \n",
        "train_data = np.array(train.loc[:,'pixel0':]).reshape(m_train,1,28,28)\n",
        "test_data = np.array(test.loc[:,'pixel0':]).reshape(m_test,1,28,28)"
      ],
      "execution_count": 5,
      "outputs": []
    },
    {
      "cell_type": "markdown",
      "metadata": {
        "id": "kOKxiPMSI20_"
      },
      "source": [
        "#Visualising the Data"
      ]
    },
    {
      "cell_type": "code",
      "metadata": {
        "id": "Qul1mT_kbDL_",
        "outputId": "6a3bfe9f-ca35-459b-a883-698f3882ef63",
        "colab": {
          "base_uri": "https://localhost:8080/",
          "height": 546
        }
      },
      "source": [
        "k = 0\n",
        "while k<2:\n",
        "    i = random.randint(0,42000)\n",
        "    plt.imshow(train_data[i,0,:,:])\n",
        "    plt.show()\n",
        "    print(f\"The label for the above image is {train_labels[i]}\")\n",
        "    k+=1"
      ],
      "execution_count": 7,
      "outputs": [
        {
          "output_type": "display_data",
          "data": {
            "image/png": "[encoded data removed]",
            "text/plain": [
              "<Figure size 432x288 with 1 Axes>"
            ]
          },
          "metadata": {
            "tags": [],
            "needs_background": "light"
          }
        },
        {
          "output_type": "stream",
          "text": [
            "The label for the above image is 8\n"
          ],
          "name": "stdout"
        },
        {
          "output_type": "display_data",
          "data": {
            "image/png": "[encoded data removed]",
            "text/plain": [
              "<Figure size 432x288 with 1 Axes>"
            ]
          },
          "metadata": {
            "tags": [],
            "needs_background": "light"
          }
        },
        {
          "output_type": "stream",
          "text": [
            "The label for the above image is 3\n"
          ],
          "name": "stdout"
        }
      ]
    },
    {
      "cell_type": "markdown",
      "metadata": {
        "id": "gZiIO2PqJJTU"
      },
      "source": [
        "### Splitting the data into Training, Validation and Testing Set\n",
        "We are using 90% data for training, 5% for Validation and 5% for Testing purpose."
      ]
    },
    {
      "cell_type": "code",
      "metadata": {
        "id": "eWIIRtfobPqI"
      },
      "source": [
        "X_train, X_test, y_train, y_test = train_test_split(train_data, train_labels, test_size=0.1, random_state=42)\n",
        "X_val, X_test, y_val, y_test = train_test_split(X_test, y_test, test_size=0.5, random_state=42)"
      ],
      "execution_count": 8,
      "outputs": []
    },
    {
      "cell_type": "markdown",
      "metadata": {
        "id": "8Zv7zZoILk_i"
      },
      "source": [
        "###Transformer\n",
        " Making a Transformer to convert our data into the PyTorch Tensors and Normalize the data.\n",
        " We are converting the data with Mean = 0.5 and STD = 0.5 across the channel"
      ]
    },
    {
      "cell_type": "code",
      "metadata": {
        "id": "nPSzI8eqDAln"
      },
      "source": [
        "# transformations to be applied on images\n",
        "transform = transforms.Compose([transforms.ToTensor(),\n",
        "                              transforms.Normalize((0.5,), (0.5,)),\n",
        "                              ])"
      ],
      "execution_count": 9,
      "outputs": []
    },
    {
      "cell_type": "markdown",
      "metadata": {
        "id": "DjvJ5ngUMT1V"
      },
      "source": [
        "### Dataset"
      ]
    },
    {
      "cell_type": "code",
      "metadata": {
        "id": "ZT_Z2ms1bUqo"
      },
      "source": [
        "class DigitDataset(Dataset):\n",
        "\n",
        "    def __init__(self,images,labels,transfrom = transform):\n",
        "        # Initialize data, download, etc.\n",
        "        self.x_data = torch.from_numpy(images/255.) # size [n_samples, n_features]\n",
        "        self.y_data = torch.from_numpy(labels) # size [n_samples, 1]\n",
        "        self.n_samples = images.shape[0]\n",
        "\n",
        "    # support indexing such that dataset[i] can be used to get i-th sample\n",
        "    def __getitem__(self, index):\n",
        "        return self.x_data[index], self.y_data[index]\n",
        "\n",
        "    # we can call len(dataset) to return the size\n",
        "    def __len__(self):\n",
        "        return self.n_samples"
      ],
      "execution_count": 11,
      "outputs": []
    },
    {
      "cell_type": "code",
      "metadata": {
        "id": "DwdkS_8-Ayaa"
      },
      "source": [
        "train_dataset = DigitDataset(X_train,y_train)\n",
        "val_dataset = DigitDataset(X_val,y_val)\n",
        "test_dataset = DigitDataset(X_test,y_test)"
      ],
      "execution_count": 12,
      "outputs": []
    },
    {
      "cell_type": "markdown",
      "metadata": {
        "id": "3Du2z9XiMZBk"
      },
      "source": [
        "### Creating Dataloaders\n",
        "We will use Batch-Size = 64"
      ]
    },
    {
      "cell_type": "code",
      "metadata": {
        "id": "iE-5mOuQA0SZ"
      },
      "source": [
        "batch_size=64\n",
        "# defining trainloader, valloader and testloader\n",
        "train_loader = torch.utils.data.DataLoader(train_dataset, batch_size=64, shuffle=True)\n",
        "val_loader = torch.utils.data.DataLoader(val_dataset, batch_size=64, shuffle=True)\n",
        "test_loader = torch.utils.data.DataLoader(test_dataset, batch_size=64, shuffle=True)"
      ],
      "execution_count": 14,
      "outputs": []
    },
    {
      "cell_type": "markdown",
      "metadata": {
        "id": "hnAs8nZmMkq5"
      },
      "source": [
        "##### Visualising the Data-loaders"
      ]
    },
    {
      "cell_type": "code",
      "metadata": {
        "id": "zDh9jNhlCE_f",
        "outputId": "77fb8d50-ea93-4c44-bf36-b72708c6bcec",
        "colab": {
          "base_uri": "https://localhost:8080/",
          "height": 50
        }
      },
      "source": [
        "# shape of training data\n",
        "dataiter = iter(train_loader)\n",
        "images, labels = dataiter.next()\n",
        "\n",
        "print(images.shape)\n",
        "print(labels.shape)"
      ],
      "execution_count": 15,
      "outputs": [
        {
          "output_type": "stream",
          "text": [
            "torch.Size([64, 1, 28, 28])\n",
            "torch.Size([64])\n"
          ],
          "name": "stdout"
        }
      ]
    },
    {
      "cell_type": "code",
      "metadata": {
        "id": "Zc7e-GevDdOI",
        "outputId": "db2a4c79-16b4-4364-c2a2-bcd1564237e9",
        "colab": {
          "base_uri": "https://localhost:8080/",
          "height": 282
        }
      },
      "source": [
        "# visualizing the training images\n",
        "plt.imshow(images[0].numpy().squeeze(), cmap='gray')"
      ],
      "execution_count": 16,
      "outputs": [
        {
          "output_type": "execute_result",
          "data": {
            "text/plain": [
              "<matplotlib.image.AxesImage at 0x7fa3cf089d68>"
            ]
          },
          "metadata": {
            "tags": []
          },
          "execution_count": 16
        },
        {
          "output_type": "display_data",
          "data": {
            "image/png": "[encoded data removed]",
            "text/plain": [
              "<Figure size 432x288 with 1 Axes>"
            ]
          },
          "metadata": {
            "tags": [],
            "needs_background": "light"
          }
        }
      ]
    },
    {
      "cell_type": "code",
      "metadata": {
        "id": "nndMZO4gDmb3",
        "outputId": "bcdfde28-9b0e-470c-ba52-5dec9a8601e2",
        "colab": {
          "base_uri": "https://localhost:8080/",
          "height": 50
        }
      },
      "source": [
        "# shape of validation data\n",
        "dataiter = iter(val_loader)\n",
        "images, labels = dataiter.next()\n",
        "\n",
        "print(images.shape)\n",
        "print(labels.shape)"
      ],
      "execution_count": 17,
      "outputs": [
        {
          "output_type": "stream",
          "text": [
            "torch.Size([64, 1, 28, 28])\n",
            "torch.Size([64])\n"
          ],
          "name": "stdout"
        }
      ]
    },
    {
      "cell_type": "code",
      "metadata": {
        "id": "Mw0QVHNID6sN",
        "outputId": "5a3d82bb-e913-4627-f462-f69fe02f49c3",
        "colab": {
          "base_uri": "https://localhost:8080/",
          "height": 34
        }
      },
      "source": [
        "#Checking the device type\n",
        "device = torch.device('cuda' if torch.cuda.is_available() else 'cpu')\n",
        "device"
      ],
      "execution_count": 18,
      "outputs": [
        {
          "output_type": "execute_result",
          "data": {
            "text/plain": [
              "device(type='cuda')"
            ]
          },
          "metadata": {
            "tags": []
          },
          "execution_count": 18
        }
      ]
    },
    {
      "cell_type": "markdown",
      "metadata": {
        "id": "cXVa7rpkMwIt"
      },
      "source": [
        "#Model Building\n",
        "Our Model is taking 1*28*28 Images as input and having the output with dimension = 10"
      ]
    },
    {
      "cell_type": "code",
      "metadata": {
        "id": "WuBYDbvEFKTb"
      },
      "source": [
        "# defining the model architecture\n",
        "class Net(nn.Module):   \n",
        "  def __init__(self):\n",
        "      super(Net, self).__init__()\n",
        "\n",
        "      self.cnn_layers = nn.Sequential(\n",
        "          # Defining a 2D convolution layer\n",
        "          nn.Conv2d(1, 4, kernel_size=3, stride=1, padding=1),\n",
        "          nn.BatchNorm2d(4),\n",
        "          nn.ReLU(inplace=True),\n",
        "          nn.MaxPool2d(kernel_size=2, stride=2),\n",
        "          # Defining another 2D convolution layer\n",
        "          nn.Conv2d(4, 4, kernel_size=3, stride=1, padding=1),\n",
        "          nn.BatchNorm2d(4),\n",
        "          nn.ReLU(inplace=True),\n",
        "          nn.MaxPool2d(kernel_size=2, stride=2),\n",
        "      )\n",
        "\n",
        "      self.linear_layers = nn.Sequential(\n",
        "          nn.Linear(4 * 7 * 7, 10)\n",
        "      )\n",
        "\n",
        "  # Defining the forward pass    \n",
        "  def forward(self, x):\n",
        "      x = self.cnn_layers(x)\n",
        "      x = x.view(x.size(0), -1)\n",
        "      x = self.linear_layers(x)\n",
        "      return x"
      ],
      "execution_count": 20,
      "outputs": []
    },
    {
      "cell_type": "markdown",
      "metadata": {
        "id": "tyJwfYHYNOVC"
      },
      "source": [
        "Defining the Optimizer, Criterion (loss function) and Learning Rate Scheduler."
      ]
    },
    {
      "cell_type": "code",
      "metadata": {
        "id": "cI2nuKEDD3ZC",
        "outputId": "c65673ea-78af-42ba-9cd3-da1f32f7e725",
        "colab": {
          "base_uri": "https://localhost:8080/",
          "height": 269
        }
      },
      "source": [
        "# defining the model\n",
        "model = Net()\n",
        "# defining the optimizer\n",
        "optimizer = optim.Adam(model.parameters(), lr=0.01)\n",
        "# defining the loss function\n",
        "criterion = nn.CrossEntropyLoss()\n",
        "step_lr_scheduler = lr_scheduler.StepLR(optimizer, step_size=7, gamma=0.1)\n",
        "# checking if GPU is available\n",
        "if torch.cuda.is_available():\n",
        "    model = model.cuda()\n",
        "    criterion = criterion.cuda()\n",
        "    \n",
        "print(model)"
      ],
      "execution_count": 21,
      "outputs": [
        {
          "output_type": "stream",
          "text": [
            "Net(\n",
            "  (cnn_layers): Sequential(\n",
            "    (0): Conv2d(1, 4, kernel_size=(3, 3), stride=(1, 1), padding=(1, 1))\n",
            "    (1): BatchNorm2d(4, eps=1e-05, momentum=0.1, affine=True, track_running_stats=True)\n",
            "    (2): ReLU(inplace=True)\n",
            "    (3): MaxPool2d(kernel_size=2, stride=2, padding=0, dilation=1, ceil_mode=False)\n",
            "    (4): Conv2d(4, 4, kernel_size=(3, 3), stride=(1, 1), padding=(1, 1))\n",
            "    (5): BatchNorm2d(4, eps=1e-05, momentum=0.1, affine=True, track_running_stats=True)\n",
            "    (6): ReLU(inplace=True)\n",
            "    (7): MaxPool2d(kernel_size=2, stride=2, padding=0, dilation=1, ceil_mode=False)\n",
            "  )\n",
            "  (linear_layers): Sequential(\n",
            "    (0): Linear(in_features=196, out_features=10, bias=True)\n",
            "  )\n",
            ")\n"
          ],
          "name": "stdout"
        }
      ]
    },
    {
      "cell_type": "markdown",
      "metadata": {
        "id": "_6PJIV8cNo4j"
      },
      "source": [
        "## Training of the model"
      ]
    },
    {
      "cell_type": "code",
      "metadata": {
        "id": "c0EidxFwYVFj"
      },
      "source": [
        "dataset_sizes = {}\n",
        "dataset_sizes['train'] = len(train_dataset)\n",
        "dataset_sizes['val'] = len(val_dataset)"
      ],
      "execution_count": 24,
      "outputs": []
    },
    {
      "cell_type": "code",
      "metadata": {
        "id": "eSF1rrsBRY1l"
      },
      "source": [
        "def train_model(model, criterion, optimizer, scheduler, num_epochs=50):\n",
        "    since = time.time() #Return the time in seconds since the epoch as a floating point number\n",
        "\n",
        "    best_model_wts = copy.deepcopy(model.state_dict())\n",
        "    best_acc = 0.0\n",
        "\n",
        "    dataloaders = {}\n",
        "    dataloaders['train'] = train_loader\n",
        "    dataloaders['val'] = val_loader\n",
        "    \n",
        "    for epoch in range(num_epochs):\n",
        "        print('Epoch {}/{}'.format(epoch, num_epochs - 1))\n",
        "        print('-' * 10)\n",
        "\n",
        "        # Each epoch has a training and validation phase\n",
        "        for phase in ['train', 'val']:\n",
        "            if phase == 'train':\n",
        "                model.train()  # Set model to training mode\n",
        "            else:\n",
        "                model.eval()   # Set model to evaluate mode\n",
        "\n",
        "            running_loss = 0.0\n",
        "            running_corrects = 0\n",
        "\n",
        "            # Iterate over data.\n",
        "            for inputs, labels in dataloaders[phase]:\n",
        "                inputs = inputs.to(device)\n",
        "                inputs = inputs.type(torch.cuda.FloatTensor)\n",
        "                labels = labels.to(device)\n",
        "\n",
        "                # forward\n",
        "                # track history if only in train\n",
        "                with torch.set_grad_enabled(phase == 'train'):\n",
        "                    outputs = model(inputs)\n",
        "                    _, preds = torch.max(outputs, 1)\n",
        "                    loss = criterion(outputs, labels)\n",
        "\n",
        "                    # backward + optimize only if in training phase\n",
        "                    if phase == 'train':\n",
        "                        optimizer.zero_grad()\n",
        "                        loss.backward()\n",
        "                        optimizer.step()\n",
        "\n",
        "                # statistics\n",
        "                running_loss += loss.item() * inputs.size(0)\n",
        "                running_corrects += torch.sum(preds == labels.data)\n",
        "\n",
        "            if phase == 'train':\n",
        "                scheduler.step()\n",
        "\n",
        "            epoch_loss = running_loss / dataset_sizes[phase]\n",
        "            epoch_acc = running_corrects.double() / dataset_sizes[phase]\n",
        "\n",
        "            print('{} Loss: {:.4f} Acc: {:.4f}'.format(\n",
        "                phase, epoch_loss, epoch_acc))\n",
        "\n",
        "            # deep copy the model\n",
        "            if phase == 'val' and epoch_acc > best_acc:\n",
        "                best_acc = epoch_acc\n",
        "                best_model_wts = copy.deepcopy(model.state_dict())\n",
        "\n",
        "        print()\n",
        "\n",
        "    time_elapsed = time.time() - since\n",
        "    print('Training complete in {:.0f}m {:.0f}s'.format(\n",
        "        time_elapsed // 60, time_elapsed % 60))\n",
        "    print('Best val Acc: {:4f}'.format(best_acc))\n",
        "\n",
        "    # load best model weights\n",
        "    model.load_state_dict(best_model_wts)\n",
        "    return model"
      ],
      "execution_count": 27,
      "outputs": []
    },
    {
      "cell_type": "code",
      "metadata": {
        "id": "ohYWnHvxGSVj",
        "outputId": "e82a08d0-a20e-4612-c59f-ec3ba1b24d73",
        "colab": {
          "base_uri": "https://localhost:8080/",
          "height": 1000
        }
      },
      "source": [
        "\n",
        "model = model.to(device)\n",
        "\n",
        "model = train_model(model, criterion, optimizer, step_lr_scheduler, num_epochs=50)"
      ],
      "execution_count": 29,
      "outputs": [
        {
          "output_type": "stream",
          "text": [
            "Epoch 0/49\n",
            "----------\n",
            "train Loss: 0.0592 Acc: 0.9807\n",
            "val Loss: 0.0921 Acc: 0.9671\n",
            "\n",
            "Epoch 1/49\n",
            "----------\n",
            "train Loss: 0.0410 Acc: 0.9872\n",
            "val Loss: 0.0708 Acc: 0.9786\n",
            "\n",
            "Epoch 2/49\n",
            "----------\n",
            "train Loss: 0.0382 Acc: 0.9879\n",
            "val Loss: 0.0698 Acc: 0.9781\n",
            "\n",
            "Epoch 3/49\n",
            "----------\n",
            "train Loss: 0.0364 Acc: 0.9885\n",
            "val Loss: 0.0696 Acc: 0.9776\n",
            "\n",
            "Epoch 4/49\n",
            "----------\n",
            "train Loss: 0.0361 Acc: 0.9886\n",
            "val Loss: 0.0723 Acc: 0.9762\n",
            "\n",
            "Epoch 5/49\n",
            "----------\n",
            "train Loss: 0.0346 Acc: 0.9894\n",
            "val Loss: 0.0699 Acc: 0.9795\n",
            "\n",
            "Epoch 6/49\n",
            "----------\n",
            "train Loss: 0.0349 Acc: 0.9894\n",
            "val Loss: 0.0701 Acc: 0.9771\n",
            "\n",
            "Epoch 7/49\n",
            "----------\n",
            "train Loss: 0.0344 Acc: 0.9891\n",
            "val Loss: 0.0689 Acc: 0.9771\n",
            "\n",
            "Epoch 8/49\n",
            "----------\n",
            "train Loss: 0.0315 Acc: 0.9905\n",
            "val Loss: 0.0683 Acc: 0.9790\n",
            "\n",
            "Epoch 9/49\n",
            "----------\n",
            "train Loss: 0.0313 Acc: 0.9906\n",
            "val Loss: 0.0683 Acc: 0.9795\n",
            "\n",
            "Epoch 10/49\n",
            "----------\n",
            "train Loss: 0.0312 Acc: 0.9910\n",
            "val Loss: 0.0685 Acc: 0.9800\n",
            "\n",
            "Epoch 11/49\n",
            "----------\n",
            "train Loss: 0.0313 Acc: 0.9907\n",
            "val Loss: 0.0685 Acc: 0.9790\n",
            "\n",
            "Epoch 12/49\n",
            "----------\n",
            "train Loss: 0.0308 Acc: 0.9909\n",
            "val Loss: 0.0687 Acc: 0.9790\n",
            "\n",
            "Epoch 13/49\n",
            "----------\n",
            "train Loss: 0.0305 Acc: 0.9908\n",
            "val Loss: 0.0690 Acc: 0.9795\n",
            "\n",
            "Epoch 14/49\n",
            "----------\n",
            "train Loss: 0.0309 Acc: 0.9907\n",
            "val Loss: 0.0688 Acc: 0.9795\n",
            "\n",
            "Epoch 15/49\n",
            "----------\n",
            "train Loss: 0.0305 Acc: 0.9908\n",
            "val Loss: 0.0689 Acc: 0.9795\n",
            "\n",
            "Epoch 16/49\n",
            "----------\n",
            "train Loss: 0.0302 Acc: 0.9911\n",
            "val Loss: 0.0688 Acc: 0.9800\n",
            "\n",
            "Epoch 17/49\n",
            "----------\n",
            "train Loss: 0.0304 Acc: 0.9909\n",
            "val Loss: 0.0689 Acc: 0.9795\n",
            "\n",
            "Epoch 18/49\n",
            "----------\n",
            "train Loss: 0.0305 Acc: 0.9909\n",
            "val Loss: 0.0690 Acc: 0.9795\n",
            "\n",
            "Epoch 19/49\n",
            "----------\n",
            "train Loss: 0.0305 Acc: 0.9909\n",
            "val Loss: 0.0685 Acc: 0.9795\n",
            "\n",
            "Epoch 20/49\n",
            "----------\n",
            "train Loss: 0.0306 Acc: 0.9907\n",
            "val Loss: 0.0689 Acc: 0.9800\n",
            "\n",
            "Epoch 21/49\n",
            "----------\n",
            "train Loss: 0.0302 Acc: 0.9911\n",
            "val Loss: 0.0687 Acc: 0.9800\n",
            "\n",
            "Epoch 22/49\n",
            "----------\n",
            "train Loss: 0.0303 Acc: 0.9909\n",
            "val Loss: 0.0687 Acc: 0.9795\n",
            "\n",
            "Epoch 23/49\n",
            "----------\n",
            "train Loss: 0.0302 Acc: 0.9909\n",
            "val Loss: 0.0688 Acc: 0.9800\n",
            "\n",
            "Epoch 24/49\n",
            "----------\n",
            "train Loss: 0.0306 Acc: 0.9910\n",
            "val Loss: 0.0690 Acc: 0.9800\n",
            "\n",
            "Epoch 25/49\n",
            "----------\n",
            "train Loss: 0.0303 Acc: 0.9909\n",
            "val Loss: 0.0692 Acc: 0.9795\n",
            "\n",
            "Epoch 26/49\n",
            "----------\n",
            "train Loss: 0.0301 Acc: 0.9914\n",
            "val Loss: 0.0687 Acc: 0.9795\n",
            "\n",
            "Epoch 27/49\n",
            "----------\n",
            "train Loss: 0.0305 Acc: 0.9908\n",
            "val Loss: 0.0686 Acc: 0.9800\n",
            "\n",
            "Epoch 28/49\n",
            "----------\n",
            "train Loss: 0.0304 Acc: 0.9909\n",
            "val Loss: 0.0691 Acc: 0.9800\n",
            "\n",
            "Epoch 29/49\n",
            "----------\n",
            "train Loss: 0.0306 Acc: 0.9911\n",
            "val Loss: 0.0686 Acc: 0.9795\n",
            "\n",
            "Epoch 30/49\n",
            "----------\n",
            "train Loss: 0.0306 Acc: 0.9909\n",
            "val Loss: 0.0689 Acc: 0.9795\n",
            "\n",
            "Epoch 31/49\n",
            "----------\n",
            "train Loss: 0.0306 Acc: 0.9908\n",
            "val Loss: 0.0685 Acc: 0.9795\n",
            "\n",
            "Epoch 32/49\n",
            "----------\n",
            "train Loss: 0.0302 Acc: 0.9911\n",
            "val Loss: 0.0689 Acc: 0.9805\n",
            "\n",
            "Epoch 33/49\n",
            "----------\n",
            "train Loss: 0.0301 Acc: 0.9913\n",
            "val Loss: 0.0687 Acc: 0.9800\n",
            "\n",
            "Epoch 34/49\n",
            "----------\n",
            "train Loss: 0.0303 Acc: 0.9910\n",
            "val Loss: 0.0691 Acc: 0.9805\n",
            "\n",
            "Epoch 35/49\n",
            "----------\n",
            "train Loss: 0.0301 Acc: 0.9913\n",
            "val Loss: 0.0692 Acc: 0.9800\n",
            "\n",
            "Epoch 36/49\n",
            "----------\n",
            "train Loss: 0.0303 Acc: 0.9908\n",
            "val Loss: 0.0687 Acc: 0.9790\n",
            "\n",
            "Epoch 37/49\n",
            "----------\n",
            "train Loss: 0.0304 Acc: 0.9909\n",
            "val Loss: 0.0690 Acc: 0.9800\n",
            "\n",
            "Epoch 38/49\n",
            "----------\n",
            "train Loss: 0.0300 Acc: 0.9911\n",
            "val Loss: 0.0688 Acc: 0.9790\n",
            "\n",
            "Epoch 39/49\n",
            "----------\n",
            "train Loss: 0.0304 Acc: 0.9909\n",
            "val Loss: 0.0686 Acc: 0.9800\n",
            "\n",
            "Epoch 40/49\n",
            "----------\n",
            "train Loss: 0.0304 Acc: 0.9908\n",
            "val Loss: 0.0685 Acc: 0.9795\n",
            "\n",
            "Epoch 41/49\n",
            "----------\n",
            "train Loss: 0.0304 Acc: 0.9909\n",
            "val Loss: 0.0686 Acc: 0.9805\n",
            "\n",
            "Epoch 42/49\n",
            "----------\n",
            "train Loss: 0.0303 Acc: 0.9910\n",
            "val Loss: 0.0686 Acc: 0.9795\n",
            "\n",
            "Epoch 43/49\n",
            "----------\n",
            "train Loss: 0.0306 Acc: 0.9908\n",
            "val Loss: 0.0687 Acc: 0.9800\n",
            "\n",
            "Epoch 44/49\n",
            "----------\n",
            "train Loss: 0.0300 Acc: 0.9911\n",
            "val Loss: 0.0688 Acc: 0.9800\n",
            "\n",
            "Epoch 45/49\n",
            "----------\n",
            "train Loss: 0.0303 Acc: 0.9910\n",
            "val Loss: 0.0686 Acc: 0.9800\n",
            "\n",
            "Epoch 46/49\n",
            "----------\n",
            "train Loss: 0.0303 Acc: 0.9911\n",
            "val Loss: 0.0688 Acc: 0.9800\n",
            "\n",
            "Epoch 47/49\n",
            "----------\n",
            "train Loss: 0.0304 Acc: 0.9908\n",
            "val Loss: 0.0691 Acc: 0.9805\n",
            "\n",
            "Epoch 48/49\n",
            "----------\n",
            "train Loss: 0.0307 Acc: 0.9908\n",
            "val Loss: 0.0690 Acc: 0.9800\n",
            "\n",
            "Epoch 49/49\n",
            "----------\n",
            "train Loss: 0.0306 Acc: 0.9909\n",
            "val Loss: 0.0687 Acc: 0.9795\n",
            "\n",
            "Training complete in 1m 40s\n",
            "Best val Acc: 0.980476\n"
          ],
          "name": "stdout"
        }
      ]
    },
    {
      "cell_type": "markdown",
      "metadata": {
        "id": "9bQhpk2OQTmU"
      },
      "source": [
        "### Testing our model on test-data"
      ]
    },
    {
      "cell_type": "code",
      "metadata": {
        "id": "ugph61YsSxCL",
        "outputId": "5f8ffbaa-3922-4245-ea0b-ee231c20db77",
        "colab": {
          "base_uri": "https://localhost:8080/",
          "height": 67
        }
      },
      "source": [
        "# getting predictions on test set and measuring the performance\n",
        "correct_count, all_count = 0, 0\n",
        "for images,labels in test_loader:\n",
        "  for i in range(len(labels)):\n",
        "    images = images.cuda()\n",
        "    images = images.type(torch.cuda.FloatTensor)\n",
        "    labels = labels.cuda()\n",
        "    img = images[i].view(1, 1, 28, 28)\n",
        "    with torch.no_grad():\n",
        "        logps = model(img)\n",
        "\n",
        "    \n",
        "    ps = torch.exp(logps)\n",
        "    probab = list(ps.cpu()[0])\n",
        "    pred_label = probab.index(max(probab))\n",
        "    true_label = labels.cpu()[i]\n",
        "    if(true_label == pred_label):\n",
        "      correct_count += 1\n",
        "    all_count += 1\n",
        "\n",
        "print(\"Number Of Images Tested =\", all_count)\n",
        "print(\"\\nModel Accuracy =\", (correct_count/all_count))"
      ],
      "execution_count": 30,
      "outputs": [
        {
          "output_type": "stream",
          "text": [
            "Number Of Images Tested = 2100\n",
            "\n",
            "Model Accuracy = 0.9795238095238096\n"
          ],
          "name": "stdout"
        }
      ]
    },
    {
      "cell_type": "markdown",
      "metadata": {
        "id": "yrWCsO0yQc7_"
      },
      "source": [
        "### Predicting for unlabelled Data"
      ]
    },
    {
      "cell_type": "code",
      "metadata": {
        "id": "i0VbgSK1WhHh"
      },
      "source": [
        "test = test_data/255 #Normalizing the data\n",
        "test = torch.from_numpy(test)  # Converting into Tensors\n",
        "test = test.type(torch.cuda.FloatTensor) "
      ],
      "execution_count": 34,
      "outputs": []
    },
    {
      "cell_type": "code",
      "metadata": {
        "id": "9YllsGqYWiDj"
      },
      "source": [
        "with torch.no_grad():\n",
        "  outputs = model(test.cuda())"
      ],
      "execution_count": 35,
      "outputs": []
    },
    {
      "cell_type": "markdown",
      "metadata": {
        "id": "m1AM1hAtQ45v"
      },
      "source": [
        "Outputs are the output of the final linear Layer having shape = 10"
      ]
    },
    {
      "cell_type": "code",
      "metadata": {
        "id": "bv2Bf1mrXJBV"
      },
      "source": [
        "ps = torch.exp(outputs)"
      ],
      "execution_count": 36,
      "outputs": []
    },
    {
      "cell_type": "code",
      "metadata": {
        "id": "51sUjSUORdau"
      },
      "source": [
        "#max_value is the value of highest no. in each 10-dim vector \n",
        "#index is the index of that max value \n",
        "max_value, index = torch.max(ps,axis=1) "
      ],
      "execution_count": 42,
      "outputs": []
    },
    {
      "cell_type": "code",
      "metadata": {
        "id": "lhObNkLlZFmQ"
      },
      "source": [
        "index = index.cpu()\n",
        "#Converting Prediction to numpy for Submission\n",
        "prediction = index.numpy()"
      ],
      "execution_count": 44,
      "outputs": []
    },
    {
      "cell_type": "code",
      "metadata": {
        "id": "MLDxAo2LauqN",
        "outputId": "af6a6b29-d694-41da-eb8d-8fe4c1659fa8",
        "colab": {
          "base_uri": "https://localhost:8080/",
          "height": 34
        }
      },
      "source": [
        "prediction.shape"
      ],
      "execution_count": 45,
      "outputs": [
        {
          "output_type": "execute_result",
          "data": {
            "text/plain": [
              "(28000,)"
            ]
          },
          "metadata": {
            "tags": []
          },
          "execution_count": 45
        }
      ]
    },
    {
      "cell_type": "code",
      "metadata": {
        "id": "3tbN93j2a1JL"
      },
      "source": [
        "k = np.arange(1,28001)"
      ],
      "execution_count": 46,
      "outputs": []
    },
    {
      "cell_type": "markdown",
      "metadata": {
        "id": "bDnSA9vjR-gO"
      },
      "source": [
        "Saving the Prediction in the acceptable format "
      ]
    },
    {
      "cell_type": "code",
      "metadata": {
        "id": "hX4Krl3NZGSg"
      },
      "source": [
        "submission = pd.DataFrame({\n",
        "        \"ImageId\":k ,\n",
        "        \"Label\": prediction\n",
        "\n",
        "    })\n",
        "\n",
        "submission.to_csv('Digit_Recognition_submission.csv', index=False)"
      ],
      "execution_count": 47,
      "outputs": []
    },
    {
      "cell_type": "code",
      "metadata": {
        "id": "il-8tTvPaiWs"
      },
      "source": [
        ""
      ],
      "execution_count": null,
      "outputs": []
    }
  ]
}